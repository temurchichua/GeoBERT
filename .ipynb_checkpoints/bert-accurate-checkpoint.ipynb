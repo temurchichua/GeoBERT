{
 "cells": [
  {
   "cell_type": "code",
   "execution_count": 3,
   "metadata": {},
   "outputs": [
    {
     "name": "stderr",
     "output_type": "stream",
     "text": [
      "2020-10-18 22:32:28,642\tINFO -- MainProcess corpus.py:16 -- Welcome to the Georgian NLP toolset demo\n",
      "2020-10-18 22:32:28,645\tINFO -- MainProcess corpus.py:110 -- ვიწყებ sample.txt-ის დამუშავებას\n",
      "2020-10-18 22:32:28,647\tINFO -- MainProcess corpus.py:123 -- წინადადების რაოდენობა: 489\n"
     ]
    },
    {
     "name": "stdout",
     "output_type": "stream",
     "text": [
      "თბილისი\n",
      "['თბილისი']\n"
     ]
    }
   ],
   "source": [
    "from corpus import Corpus"
   ]
  },
  {
   "cell_type": "code",
   "execution_count": 5,
   "metadata": {},
   "outputs": [],
   "source": [
    "import os\n",
    "os.environ['CUDA_VISIBLE_DEVICES'] = ''\n"
   ]
  },
  {
   "cell_type": "code",
   "execution_count": 6,
   "metadata": {},
   "outputs": [
    {
     "data": {
      "text/plain": [
       "{   'counted': 0,\n",
       "    'prepro_sequence': 0,\n",
       "    'sequence': 0,\n",
       "    'stop_words': 373,\n",
       "    'tokens': 0}"
      ]
     },
     "execution_count": 6,
     "metadata": {},
     "output_type": "execute_result"
    }
   ],
   "source": [
    "corp = Corpus()\n",
    "corp.from_file('kawiki-latest-pages-articles_preprocessed.txt')"
   ]
  },
  {
   "cell_type": "code",
   "execution_count": 7,
   "metadata": {
    "scrolled": true
   },
   "outputs": [
    {
     "name": "stderr",
     "output_type": "stream",
     "text": [
      "2020-10-18 22:37:37,290\tINFO -- MainProcess corpus.py:110 -- ვიწყებ kawiki-latest-pages-articles_preprocessed.txt-ის დამუშავებას\n",
      "2020-10-18 22:37:39,008\tINFO -- MainProcess corpus.py:123 -- წინადადების რაოდენობა: 1616593\n"
     ]
    }
   ],
   "source": [
    "corp.file2sequence(preprocess=True)\n",
    "corp.count_tokens()"
   ]
  },
  {
   "cell_type": "code",
   "execution_count": 18,
   "metadata": {},
   "outputs": [
    {
     "data": {
      "text/plain": [
       "837735"
      ]
     },
     "execution_count": 18,
     "metadata": {},
     "output_type": "execute_result"
    }
   ],
   "source": [
    "corp.counted"
   ]
  },
  {
   "cell_type": "code",
   "execution_count": 20,
   "metadata": {},
   "outputs": [],
   "source": [
    "corp.save_corpus()"
   ]
  },
  {
   "cell_type": "code",
   "execution_count": 21,
   "metadata": {},
   "outputs": [],
   "source": [
    "BERT_VOCAB = 'multi_cased_L-12_H-768_A-12/vocab.txt'\n",
    "BERT_INIT_CHKPNT = 'multi_cased_L-12_H-768_A-12/bert_model.ckpt'\n",
    "BERT_CONFIG = 'multi_cased_L-12_H-768_A-12/bert_config.json'"
   ]
  },
  {
   "cell_type": "code",
   "execution_count": 27,
   "metadata": {},
   "outputs": [
    {
     "name": "stdout",
     "output_type": "stream",
     "text": [
      "Collecting bert-tensorflow\n",
      "  Using cached bert_tensorflow-1.0.4-py2.py3-none-any.whl (64 kB)\n",
      "Requirement already satisfied: six in /opt/anaconda/lib/python3.8/site-packages (from bert-tensorflow) (1.15.0)\n",
      "Installing collected packages: bert-tensorflow\n",
      "Successfully installed bert-tensorflow-1.0.4\n",
      "Requirement already satisfied: tensorflow in /opt/anaconda/lib/python3.8/site-packages (2.3.0)\n",
      "Requirement already satisfied: h5py<2.11.0,>=2.10.0 in /opt/anaconda/lib/python3.8/site-packages (from tensorflow) (2.10.0)\n",
      "Requirement already satisfied: astunparse==1.6.3 in /opt/anaconda/lib/python3.8/site-packages (from tensorflow) (1.6.3)\n",
      "Requirement already satisfied: keras-preprocessing<1.2,>=1.1.1 in /opt/anaconda/lib/python3.8/site-packages (from tensorflow) (1.1.2)\n",
      "Requirement already satisfied: protobuf>=3.9.2 in /opt/anaconda/lib/python3.8/site-packages (from tensorflow) (3.13.0)\n",
      "Requirement already satisfied: grpcio>=1.8.6 in /opt/anaconda/lib/python3.8/site-packages (from tensorflow) (1.32.0)\n",
      "Requirement already satisfied: gast==0.3.3 in /opt/anaconda/lib/python3.8/site-packages (from tensorflow) (0.3.3)\n",
      "Requirement already satisfied: six>=1.12.0 in /opt/anaconda/lib/python3.8/site-packages (from tensorflow) (1.15.0)\n",
      "Collecting scipy==1.4.1\n",
      "  Downloading scipy-1.4.1-cp38-cp38-manylinux1_x86_64.whl (26.0 MB)\n",
      "\u001b[K     |████████████████████████████████| 26.0 MB 12.3 MB/s eta 0:00:01\n",
      "\u001b[?25hRequirement already satisfied: google-pasta>=0.1.8 in /opt/anaconda/lib/python3.8/site-packages (from tensorflow) (0.2.0)\n",
      "Requirement already satisfied: termcolor>=1.1.0 in /opt/anaconda/lib/python3.8/site-packages (from tensorflow) (1.1.0)\n",
      "Requirement already satisfied: absl-py>=0.7.0 in /opt/anaconda/lib/python3.8/site-packages (from tensorflow) (0.10.0)\n",
      "Requirement already satisfied: opt-einsum>=2.3.2 in /opt/anaconda/lib/python3.8/site-packages (from tensorflow) (3.3.0)\n",
      "Requirement already satisfied: numpy<1.19.0,>=1.16.0 in /opt/anaconda/lib/python3.8/site-packages (from tensorflow) (1.18.5)\n",
      "Requirement already satisfied: wrapt>=1.11.1 in /opt/anaconda/lib/python3.8/site-packages (from tensorflow) (1.11.2)\n",
      "Requirement already satisfied: tensorboard<3,>=2.3.0 in /opt/anaconda/lib/python3.8/site-packages (from tensorflow) (2.3.0)\n",
      "Requirement already satisfied: tensorflow-estimator<2.4.0,>=2.3.0 in /opt/anaconda/lib/python3.8/site-packages (from tensorflow) (2.3.0)\n",
      "Requirement already satisfied: wheel>=0.26 in /opt/anaconda/lib/python3.8/site-packages (from tensorflow) (0.34.2)\n",
      "Requirement already satisfied: setuptools in /opt/anaconda/lib/python3.8/site-packages (from protobuf>=3.9.2->tensorflow) (49.2.0.post20200714)\n",
      "Requirement already satisfied: requests<3,>=2.21.0 in /opt/anaconda/lib/python3.8/site-packages (from tensorboard<3,>=2.3.0->tensorflow) (2.24.0)\n",
      "Requirement already satisfied: werkzeug>=0.11.15 in /opt/anaconda/lib/python3.8/site-packages (from tensorboard<3,>=2.3.0->tensorflow) (1.0.1)\n",
      "Requirement already satisfied: tensorboard-plugin-wit>=1.6.0 in /opt/anaconda/lib/python3.8/site-packages (from tensorboard<3,>=2.3.0->tensorflow) (1.7.0)\n",
      "Requirement already satisfied: google-auth<2,>=1.6.3 in /opt/anaconda/lib/python3.8/site-packages (from tensorboard<3,>=2.3.0->tensorflow) (1.21.1)\n",
      "Requirement already satisfied: markdown>=2.6.8 in /opt/anaconda/lib/python3.8/site-packages (from tensorboard<3,>=2.3.0->tensorflow) (3.2.2)\n",
      "Requirement already satisfied: google-auth-oauthlib<0.5,>=0.4.1 in /opt/anaconda/lib/python3.8/site-packages (from tensorboard<3,>=2.3.0->tensorflow) (0.4.1)\n",
      "Requirement already satisfied: chardet<4,>=3.0.2 in /opt/anaconda/lib/python3.8/site-packages (from requests<3,>=2.21.0->tensorboard<3,>=2.3.0->tensorflow) (3.0.4)\n",
      "Requirement already satisfied: certifi>=2017.4.17 in /opt/anaconda/lib/python3.8/site-packages (from requests<3,>=2.21.0->tensorboard<3,>=2.3.0->tensorflow) (2020.6.20)\n",
      "Requirement already satisfied: idna<3,>=2.5 in /opt/anaconda/lib/python3.8/site-packages (from requests<3,>=2.21.0->tensorboard<3,>=2.3.0->tensorflow) (2.10)\n",
      "Requirement already satisfied: urllib3!=1.25.0,!=1.25.1,<1.26,>=1.21.1 in /opt/anaconda/lib/python3.8/site-packages (from requests<3,>=2.21.0->tensorboard<3,>=2.3.0->tensorflow) (1.25.9)\n",
      "Requirement already satisfied: pyasn1-modules>=0.2.1 in /opt/anaconda/lib/python3.8/site-packages (from google-auth<2,>=1.6.3->tensorboard<3,>=2.3.0->tensorflow) (0.2.8)\n",
      "Requirement already satisfied: cachetools<5.0,>=2.0.0 in /opt/anaconda/lib/python3.8/site-packages (from google-auth<2,>=1.6.3->tensorboard<3,>=2.3.0->tensorflow) (4.1.1)\n",
      "Requirement already satisfied: rsa<5,>=3.1.4; python_version >= \"3.5\" in /opt/anaconda/lib/python3.8/site-packages (from google-auth<2,>=1.6.3->tensorboard<3,>=2.3.0->tensorflow) (4.6)\n",
      "Requirement already satisfied: requests-oauthlib>=0.7.0 in /opt/anaconda/lib/python3.8/site-packages (from google-auth-oauthlib<0.5,>=0.4.1->tensorboard<3,>=2.3.0->tensorflow) (1.3.0)\n",
      "Requirement already satisfied: pyasn1<0.5.0,>=0.4.6 in /opt/anaconda/lib/python3.8/site-packages (from pyasn1-modules>=0.2.1->google-auth<2,>=1.6.3->tensorboard<3,>=2.3.0->tensorflow) (0.4.8)\n",
      "Requirement already satisfied: oauthlib>=3.0.0 in /opt/anaconda/lib/python3.8/site-packages (from requests-oauthlib>=0.7.0->google-auth-oauthlib<0.5,>=0.4.1->tensorboard<3,>=2.3.0->tensorflow) (3.1.0)\n",
      "Installing collected packages: scipy\n",
      "  Attempting uninstall: scipy\n",
      "    Found existing installation: scipy 1.5.0\n",
      "    Uninstalling scipy-1.5.0:\n",
      "      Successfully uninstalled scipy-1.5.0\n",
      "Successfully installed scipy-1.4.1\n",
      "Requirement already satisfied: numpy in /opt/anaconda/lib/python3.8/site-packages (1.18.5)\n"
     ]
    }
   ],
   "source": [
    "!pip install bert-tensorflow \n",
    "!pip install tensorflow \n",
    "!pip install numpy"
   ]
  },
  {
   "cell_type": "code",
   "execution_count": 28,
   "metadata": {},
   "outputs": [
    {
     "name": "stderr",
     "output_type": "stream",
     "text": [
      "2020-10-18 23:07:43,593\tDEBUG -- MainProcess tpu_cluster_resolver.py:34 -- Falling back to TensorFlow client; we recommended you install the Cloud TPU client directly with pip install cloud-tpu-client.\n"
     ]
    },
    {
     "ename": "ModuleNotFoundError",
     "evalue": "No module named 'tensorflow.contrib'",
     "output_type": "error",
     "traceback": [
      "\u001b[0;31m--------------------------------------------------------------------------\u001b[0m",
      "\u001b[0;31mModuleNotFoundError\u001b[0m                      Traceback (most recent call last)",
      "\u001b[0;32m<ipython-input-28-e9708527ee60>\u001b[0m in \u001b[0;36m<module>\u001b[0;34m\u001b[0m\n\u001b[1;32m      1\u001b[0m \u001b[0;32mimport\u001b[0m \u001b[0mbert\u001b[0m\u001b[0;34m\u001b[0m\u001b[0;34m\u001b[0m\u001b[0m\n\u001b[0;32m----> 2\u001b[0;31m \u001b[0;32mfrom\u001b[0m \u001b[0mbert\u001b[0m \u001b[0;32mimport\u001b[0m \u001b[0mrun_classifier\u001b[0m\u001b[0;34m\u001b[0m\u001b[0;34m\u001b[0m\u001b[0m\n\u001b[0m\u001b[1;32m      3\u001b[0m \u001b[0;32mfrom\u001b[0m \u001b[0mbert\u001b[0m \u001b[0;32mimport\u001b[0m \u001b[0moptimization\u001b[0m\u001b[0;34m\u001b[0m\u001b[0;34m\u001b[0m\u001b[0m\n\u001b[1;32m      4\u001b[0m \u001b[0;32mfrom\u001b[0m \u001b[0mbert\u001b[0m \u001b[0;32mimport\u001b[0m \u001b[0mtokenization\u001b[0m\u001b[0;34m\u001b[0m\u001b[0;34m\u001b[0m\u001b[0m\n\u001b[1;32m      5\u001b[0m \u001b[0;32mfrom\u001b[0m \u001b[0mbert\u001b[0m \u001b[0;32mimport\u001b[0m \u001b[0mmodeling\u001b[0m\u001b[0;34m\u001b[0m\u001b[0;34m\u001b[0m\u001b[0m\n",
      "\u001b[0;32m/opt/anaconda/lib/python3.8/site-packages/bert/run_classifier.py\u001b[0m in \u001b[0;36m<module>\u001b[0;34m\u001b[0m\n\u001b[1;32m     22\u001b[0m \u001b[0;32mimport\u001b[0m \u001b[0mcsv\u001b[0m\u001b[0;34m\u001b[0m\u001b[0;34m\u001b[0m\u001b[0m\n\u001b[1;32m     23\u001b[0m \u001b[0;32mimport\u001b[0m \u001b[0mos\u001b[0m\u001b[0;34m\u001b[0m\u001b[0;34m\u001b[0m\u001b[0m\n\u001b[0;32m---> 24\u001b[0;31m \u001b[0;32mfrom\u001b[0m \u001b[0mbert\u001b[0m \u001b[0;32mimport\u001b[0m \u001b[0mmodeling\u001b[0m\u001b[0;34m\u001b[0m\u001b[0;34m\u001b[0m\u001b[0m\n\u001b[0m\u001b[1;32m     25\u001b[0m \u001b[0;32mfrom\u001b[0m \u001b[0mbert\u001b[0m \u001b[0;32mimport\u001b[0m \u001b[0moptimization\u001b[0m\u001b[0;34m\u001b[0m\u001b[0;34m\u001b[0m\u001b[0m\n\u001b[1;32m     26\u001b[0m \u001b[0;32mfrom\u001b[0m \u001b[0mbert\u001b[0m \u001b[0;32mimport\u001b[0m \u001b[0mtokenization\u001b[0m\u001b[0;34m\u001b[0m\u001b[0;34m\u001b[0m\u001b[0m\n",
      "\u001b[0;32m/opt/anaconda/lib/python3.8/site-packages/bert/modeling.py\u001b[0m in \u001b[0;36m<module>\u001b[0;34m\u001b[0m\n\u001b[1;32m     27\u001b[0m \u001b[0;32mimport\u001b[0m \u001b[0msix\u001b[0m\u001b[0;34m\u001b[0m\u001b[0;34m\u001b[0m\u001b[0m\n\u001b[1;32m     28\u001b[0m \u001b[0;32mimport\u001b[0m \u001b[0mtensorflow\u001b[0m\u001b[0;34m.\u001b[0m\u001b[0mcompat\u001b[0m\u001b[0;34m.\u001b[0m\u001b[0mv1\u001b[0m \u001b[0;32mas\u001b[0m \u001b[0mtf\u001b[0m\u001b[0;34m\u001b[0m\u001b[0;34m\u001b[0m\u001b[0m\n\u001b[0;32m---> 29\u001b[0;31m \u001b[0;32mfrom\u001b[0m \u001b[0mtensorflow\u001b[0m\u001b[0;34m.\u001b[0m\u001b[0mcontrib\u001b[0m \u001b[0;32mimport\u001b[0m \u001b[0mlayers\u001b[0m \u001b[0;32mas\u001b[0m \u001b[0mcontrib_layers\u001b[0m\u001b[0;34m\u001b[0m\u001b[0;34m\u001b[0m\u001b[0m\n\u001b[0m\u001b[1;32m     30\u001b[0m \u001b[0;34m\u001b[0m\u001b[0m\n\u001b[1;32m     31\u001b[0m \u001b[0;34m\u001b[0m\u001b[0m\n",
      "\u001b[0;31mModuleNotFoundError\u001b[0m: No module named 'tensorflow.contrib'"
     ]
    }
   ],
   "source": [
    "import bert\n",
    "from bert import run_classifier\n",
    "from bert import optimization\n",
    "from bert import tokenization\n",
    "from bert import modeling\n",
    "import tensorflow as tf\n",
    "import numpy as np"
   ]
  },
  {
   "cell_type": "code",
   "execution_count": 2,
   "metadata": {},
   "outputs": [
    {
     "name": "stdout",
     "output_type": "stream",
     "text": [
      "\u001b[31mERROR: Could not find a version that satisfies the requirement tensorflow==1.15 (from versions: 2.2.0rc1, 2.2.0rc2, 2.2.0rc3, 2.2.0rc4, 2.2.0, 2.2.1, 2.3.0rc0, 2.3.0rc1, 2.3.0rc2, 2.3.0, 2.3.1)\u001b[0m\r\n",
      "\u001b[31mERROR: No matching distribution found for tensorflow==1.15\u001b[0m\r\n"
     ]
    }
   ],
   "source": [
    "!pip install tensorflow==1.15"
   ]
  },
  {
   "cell_type": "code",
   "execution_count": 1,
   "metadata": {
    "scrolled": true
   },
   "outputs": [
    {
     "name": "stdout",
     "output_type": "stream",
     "text": [
      "Collecting rasa\n",
      "  Downloading rasa-2.0.0-py3-none-any.whl (621 kB)\n",
      "\u001b[K     |████████████████████████████████| 621 kB 674 kB/s eta 0:00:01\n",
      "\u001b[?25hCollecting redis<4.0,>=3.4\n",
      "  Downloading redis-3.5.3-py2.py3-none-any.whl (72 kB)\n",
      "\u001b[K     |████████████████████████████████| 72 kB 1.4 MB/s eta 0:00:011\n",
      "\u001b[?25hRequirement already satisfied: scipy<2.0.0,>=1.4.1 in /opt/anaconda/lib/python3.8/site-packages (from rasa) (1.4.1)\n",
      "Collecting multidict<5.0,>=4.6\n",
      "  Downloading multidict-4.7.6-cp38-cp38-manylinux1_x86_64.whl (162 kB)\n",
      "\u001b[K     |████████████████████████████████| 162 kB 4.7 MB/s eta 0:00:01\n",
      "\u001b[?25hCollecting ruamel.yaml<0.17,>=0.16\n",
      "  Downloading ruamel.yaml-0.16.12-py2.py3-none-any.whl (111 kB)\n",
      "\u001b[K     |████████████████████████████████| 111 kB 4.8 MB/s eta 0:00:01\n",
      "\u001b[?25hCollecting psycopg2-binary<2.9.0,>=2.8.2\n",
      "  Downloading psycopg2_binary-2.8.6-cp38-cp38-manylinux1_x86_64.whl (3.0 MB)\n",
      "\u001b[K     |████████████████████████████████| 3.0 MB 4.6 MB/s eta 0:00:01\n",
      "\u001b[?25hCollecting coloredlogs<15,>=10\n",
      "  Downloading coloredlogs-14.0-py2.py3-none-any.whl (43 kB)\n",
      "\u001b[K     |████████████████████████████████| 43 kB 2.0 MB/s  eta 0:00:01\n",
      "\u001b[?25hCollecting fbmessenger<6.1.0,>=6.0.0\n",
      "  Downloading fbmessenger-6.0.0-py2.py3-none-any.whl (11 kB)\n",
      "Collecting rocketchat_API<1.10.0,>=0.6.31\n",
      "  Downloading rocketchat_API-1.9.1-py3-none-any.whl (9.8 kB)\n",
      "Collecting PyJWT<1.8,>=1.7\n",
      "  Downloading PyJWT-1.7.1-py2.py3-none-any.whl (18 kB)\n",
      "Requirement already satisfied: packaging<21.0,>=20.0 in /opt/anaconda/lib/python3.8/site-packages (from rasa) (20.4)\n",
      "Collecting tensorflow-text<2.4,>=2.3; sys_platform != \"win32\"\n",
      "  Downloading tensorflow_text-2.3.0-cp38-cp38-manylinux1_x86_64.whl (2.6 MB)\n",
      "\u001b[K     |████████████████████████████████| 2.6 MB 9.0 MB/s eta 0:00:01\n",
      "\u001b[?25hRequirement already satisfied: tqdm<4.51,>=4.31 in /opt/anaconda/lib/python3.8/site-packages (from rasa) (4.47.0)\n",
      "Collecting joblib<0.16.0,>=0.15.1\n",
      "  Downloading joblib-0.15.1-py3-none-any.whl (298 kB)\n",
      "\u001b[K     |████████████████████████████████| 298 kB 11.5 MB/s eta 0:00:01\n",
      "\u001b[?25hCollecting async_generator<1.11,>=1.10\n",
      "  Downloading async_generator-1.10-py3-none-any.whl (18 kB)\n",
      "Requirement already satisfied: absl-py<0.11,>=0.9 in /opt/anaconda/lib/python3.8/site-packages (from rasa) (0.10.0)\n",
      "Collecting tensorflow-addons<=0.12,>=0.10\n",
      "  Downloading tensorflow_addons-0.11.2-cp38-cp38-manylinux2010_x86_64.whl (1.1 MB)\n",
      "\u001b[K     |████████████████████████████████| 1.1 MB 12.1 MB/s eta 0:00:01\n",
      "\u001b[?25hCollecting oauth2client==4.1.3\n",
      "  Downloading oauth2client-4.1.3-py2.py3-none-any.whl (98 kB)\n",
      "\u001b[K     |████████████████████████████████| 98 kB 10.7 MB/s eta 0:00:01\n",
      "\u001b[?25hRequirement already satisfied: scikit-learn<0.24,>=0.22 in /opt/anaconda/lib/python3.8/site-packages (from rasa) (0.23.1)\n",
      "Collecting rasa-sdk<3.0.0,>=2.0.0\n",
      "  Downloading rasa_sdk-2.0.0-py3-none-any.whl (41 kB)\n",
      "\u001b[K     |████████████████████████████████| 41 kB 75 kB/s s eta 0:00:01\n",
      "\u001b[?25hCollecting pymongo[srv,tls]<3.11,>=3.8\n",
      "  Downloading pymongo-3.10.1-cp38-cp38-manylinux2014_x86_64.whl (480 kB)\n",
      "\u001b[K     |████████████████████████████████| 480 kB 14.1 MB/s eta 0:00:01\n",
      "\u001b[?25hRequirement already satisfied: regex<2020.10,>=2020.6 in /opt/anaconda/lib/python3.8/site-packages (from rasa) (2020.6.8)\n",
      "Collecting twilio<6.46,>=6.26\n",
      "  Downloading twilio-6.45.4.tar.gz (457 kB)\n",
      "\u001b[K     |████████████████████████████████| 457 kB 14.4 MB/s eta 0:00:01\n",
      "\u001b[?25hCollecting prompt-toolkit<3.0,>=2.0\n",
      "  Downloading prompt_toolkit-2.0.10-py3-none-any.whl (340 kB)\n",
      "\u001b[K     |████████████████████████████████| 340 kB 15.0 MB/s eta 0:00:01\n",
      "\u001b[?25hCollecting questionary<1.6.0,>=1.5.1\n",
      "  Downloading questionary-1.5.2-py3-none-any.whl (26 kB)\n",
      "Collecting mattermostwrapper<2.3,>=2.2\n",
      "  Downloading mattermostwrapper-2.2.tar.gz (2.5 kB)\n",
      "Requirement already satisfied: boto3<2.0,>=1.12 in /opt/anaconda/lib/python3.8/site-packages (from rasa) (1.14.60)\n",
      "Collecting python-engineio<3.14,>=3.11\n",
      "  Downloading python_engineio-3.13.2-py2.py3-none-any.whl (50 kB)\n",
      "\u001b[K     |████████████████████████████████| 50 kB 12.6 MB/s eta 0:00:01\n",
      "\u001b[?25hCollecting sanic-jwt<1.5.0,>=1.3.2\n",
      "  Downloading sanic-jwt-1.4.1.tar.gz (19 kB)\n",
      "Collecting tensorflow-probability<0.12,>=0.11\n",
      "  Downloading tensorflow_probability-0.11.1-py2.py3-none-any.whl (4.3 MB)\n",
      "\u001b[K     |████████████████████████████████| 4.3 MB 13.5 MB/s eta 0:00:01\n",
      "\u001b[?25hCollecting tensorflow_hub<0.10,>=0.9\n",
      "  Downloading tensorflow_hub-0.9.0-py2.py3-none-any.whl (103 kB)\n",
      "\u001b[K     |████████████████████████████████| 103 kB 25.1 MB/s eta 0:00:01\n",
      "\u001b[?25hRequirement already satisfied: tensorflow-estimator<2.4,>=2.3 in /opt/anaconda/lib/python3.8/site-packages (from rasa) (2.3.0)\n",
      "Requirement already satisfied: jsonschema<3.3,>=3.2 in /opt/anaconda/lib/python3.8/site-packages (from rasa) (3.2.0)\n",
      "Collecting python-telegram-bot<13.0,>=11.1\n",
      "  Downloading python_telegram_bot-12.8-py2.py3-none-any.whl (375 kB)\n",
      "\u001b[K     |████████████████████████████████| 375 kB 19.0 MB/s eta 0:00:01\n",
      "\u001b[?25hRequirement already satisfied: matplotlib<3.4,>=3.1 in /opt/anaconda/lib/python3.8/site-packages (from rasa) (3.2.2)\n",
      "Collecting pika<1.2.0,>=1.1.0\n",
      "  Downloading pika-1.1.0-py2.py3-none-any.whl (148 kB)\n",
      "\u001b[K     |████████████████████████████████| 148 kB 19.2 MB/s eta 0:00:01\n",
      "\u001b[?25hRequirement already satisfied: pytz<2021.0,>=2019.1 in /opt/anaconda/lib/python3.8/site-packages (from rasa) (2020.1)\n",
      "Requirement already satisfied: requests<3.0,>=2.23 in /opt/anaconda/lib/python3.8/site-packages (from rasa) (2.24.0)\n",
      "Collecting sentry-sdk<0.18.0,>=0.17.4\n",
      "  Downloading sentry_sdk-0.17.8-py2.py3-none-any.whl (120 kB)\n",
      "\u001b[K     |████████████████████████████████| 120 kB 18.4 MB/s eta 0:00:01\n",
      "\u001b[?25hRequirement already satisfied: networkx<2.6,>=2.4 in /opt/anaconda/lib/python3.8/site-packages (from rasa) (2.4)\n",
      "Collecting colorhash<1.1.0,>=1.0.2\n",
      "  Downloading colorhash-1.0.2-py2.py3-none-any.whl (6.0 kB)\n",
      "Requirement already satisfied: attrs<20.3,>=19.3 in /opt/anaconda/lib/python3.8/site-packages (from rasa) (19.3.0)\n",
      "Requirement already satisfied: tensorflow<2.4,>=2.3 in /opt/anaconda/lib/python3.8/site-packages (from rasa) (2.3.0)\n",
      "Requirement already satisfied: ujson<4.0,>=1.35 in /opt/anaconda/lib/python3.8/site-packages (from rasa) (1.35)\n",
      "Collecting aiohttp<3.7,>=3.6\n",
      "  Downloading aiohttp-3.6.3.tar.gz (1.1 MB)\n",
      "\u001b[K     |████████████████████████████████| 1.1 MB 17.4 MB/s eta 0:00:01\n",
      "\u001b[?25h  Installing build dependencies ... \u001b[?25ldone\n",
      "\u001b[?25h  Getting requirements to build wheel ... \u001b[?25ldone\n",
      "\u001b[?25h    Preparing wheel metadata ... \u001b[?25ldone\n",
      "\u001b[?25hCollecting sanic<21.0.0,>=19.12.2\n",
      "  Downloading sanic-20.9.0-py3-none-any.whl (79 kB)\n",
      "\u001b[K     |████████████████████████████████| 79 kB 14.4 MB/s eta 0:00:01\n",
      "\u001b[?25hCollecting slackclient<3.0.0,>=2.0.0\n",
      "  Downloading slackclient-2.9.2-py2.py3-none-any.whl (96 kB)\n",
      "\u001b[K     |████████████████████████████████| 96 kB 12.1 MB/s eta 0:00:01\n",
      "\u001b[?25hCollecting jsonpickle<1.5,>=1.3\n",
      "  Downloading jsonpickle-1.4.1-py2.py3-none-any.whl (36 kB)\n",
      "Collecting apscheduler<3.7,>=3.6\n",
      "  Downloading APScheduler-3.6.3-py2.py3-none-any.whl (58 kB)\n",
      "\u001b[K     |████████████████████████████████| 58 kB 14.5 MB/s eta 0:00:01\n",
      "\u001b[?25hRequirement already satisfied: python-dateutil<2.9,>=2.8 in /opt/anaconda/lib/python3.8/site-packages (from rasa) (2.8.1)\n",
      "Requirement already satisfied: setuptools>=41.0.0 in /opt/anaconda/lib/python3.8/site-packages (from rasa) (49.2.0.post20200714)\n",
      "Collecting terminaltables<3.2.0,>=3.1.0\n",
      "  Downloading terminaltables-3.1.0.tar.gz (12 kB)\n",
      "Collecting kafka-python<3.0,>=1.4\n",
      "  Downloading kafka_python-2.0.2-py2.py3-none-any.whl (246 kB)\n",
      "\u001b[K     |████████████████████████████████| 246 kB 20.0 MB/s eta 0:00:01\n",
      "\u001b[?25hCollecting cloudpickle<1.5,>=1.2\n",
      "  Downloading cloudpickle-1.4.1-py3-none-any.whl (26 kB)\n",
      "Collecting sklearn-crfsuite<0.4,>=0.3\n",
      "  Downloading sklearn_crfsuite-0.3.6-py2.py3-none-any.whl (12 kB)\n",
      "Collecting webexteamssdk<1.7.0,>=1.1.1\n",
      "  Downloading webexteamssdk-1.6-py3-none-any.whl (113 kB)\n",
      "\u001b[K     |████████████████████████████████| 113 kB 20.4 MB/s eta 0:00:01\n",
      "\u001b[?25hCollecting python-socketio<4.7,>=4.4\n",
      "  Downloading python_socketio-4.6.0-py2.py3-none-any.whl (51 kB)\n",
      "\u001b[K     |████████████████████████████████| 51 kB 2.3 MB/s  eta 0:00:01\n",
      "\u001b[?25hCollecting pykwalify<1.8.0,>=1.7.0\n",
      "  Downloading pykwalify-1.7.0-py2.py3-none-any.whl (40 kB)\n",
      "\u001b[K     |████████████████████████████████| 40 kB 12.7 MB/s eta 0:00:01\n"
     ]
    },
    {
     "name": "stdout",
     "output_type": "stream",
     "text": [
      "\u001b[?25hCollecting colorclass<2.3,>=2.2\n",
      "  Downloading colorclass-2.2.0.tar.gz (17 kB)\n",
      "Requirement already satisfied: SQLAlchemy<1.4.0,>=1.3.3 in /opt/anaconda/lib/python3.8/site-packages (from rasa) (1.3.18)\n",
      "Requirement already satisfied: numpy<2.0,>=1.16 in /opt/anaconda/lib/python3.8/site-packages (from rasa) (1.18.5)\n",
      "Collecting sanic-cors<0.11.0,>=0.10.0b1\n",
      "  Downloading Sanic_Cors-0.10.0.post3-py2.py3-none-any.whl (17 kB)\n",
      "Requirement already satisfied: pydot<1.5,>=1.4 in /opt/anaconda/lib/python3.8/site-packages (from rasa) (1.4.1)\n",
      "Collecting ruamel.yaml.clib>=0.1.2; platform_python_implementation == \"CPython\" and python_version < \"3.9\"\n",
      "  Downloading ruamel.yaml.clib-0.2.2-cp38-cp38-manylinux1_x86_64.whl (578 kB)\n",
      "\u001b[K     |████████████████████████████████| 578 kB 24.5 MB/s eta 0:00:01\n",
      "\u001b[?25hCollecting humanfriendly>=7.1\n",
      "  Downloading humanfriendly-8.2-py2.py3-none-any.whl (86 kB)\n",
      "\u001b[K     |████████████████████████████████| 86 kB 12.1 MB/s eta 0:00:01\n",
      "\u001b[?25hRequirement already satisfied: six in /opt/anaconda/lib/python3.8/site-packages (from packaging<21.0,>=20.0->rasa) (1.15.0)\n",
      "Requirement already satisfied: pyparsing>=2.0.2 in /opt/anaconda/lib/python3.8/site-packages (from packaging<21.0,>=20.0->rasa) (2.4.7)\n",
      "Collecting typeguard>=2.7\n",
      "  Downloading typeguard-2.10.0-py3-none-any.whl (16 kB)\n",
      "Collecting httplib2>=0.9.1\n",
      "  Downloading httplib2-0.18.1-py3-none-any.whl (95 kB)\n",
      "\u001b[K     |████████████████████████████████| 95 kB 9.5 MB/s  eta 0:00:01\n",
      "\u001b[?25hRequirement already satisfied: pyasn1-modules>=0.0.5 in /opt/anaconda/lib/python3.8/site-packages (from oauth2client==4.1.3->rasa) (0.2.8)\n",
      "Requirement already satisfied: pyasn1>=0.1.7 in /opt/anaconda/lib/python3.8/site-packages (from oauth2client==4.1.3->rasa) (0.4.8)\n",
      "Requirement already satisfied: rsa>=3.1.4 in /opt/anaconda/lib/python3.8/site-packages (from oauth2client==4.1.3->rasa) (4.6)\n",
      "Requirement already satisfied: threadpoolctl>=2.0.0 in /opt/anaconda/lib/python3.8/site-packages (from scikit-learn<0.24,>=0.22->rasa) (2.1.0)\n",
      "Collecting dnspython<2.0.0,>=1.16.0; extra == \"srv\"\n",
      "  Downloading dnspython-1.16.0-py2.py3-none-any.whl (188 kB)\n",
      "\u001b[K     |████████████████████████████████| 188 kB 21.6 MB/s eta 0:00:01\n",
      "\u001b[?25hRequirement already satisfied: wcwidth in /opt/anaconda/lib/python3.8/site-packages (from prompt-toolkit<3.0,>=2.0->rasa) (0.2.5)\n",
      "Requirement already satisfied: s3transfer<0.4.0,>=0.3.0 in /opt/anaconda/lib/python3.8/site-packages (from boto3<2.0,>=1.12->rasa) (0.3.3)\n",
      "Requirement already satisfied: botocore<1.18.0,>=1.17.60 in /opt/anaconda/lib/python3.8/site-packages (from boto3<2.0,>=1.12->rasa) (1.17.60)\n",
      "Requirement already satisfied: jmespath<1.0.0,>=0.7.1 in /opt/anaconda/lib/python3.8/site-packages (from boto3<2.0,>=1.12->rasa) (0.10.0)\n",
      "Requirement already satisfied: gast>=0.3.2 in /opt/anaconda/lib/python3.8/site-packages (from tensorflow-probability<0.12,>=0.11->rasa) (0.3.3)\n",
      "Collecting dm-tree\n",
      "  Downloading dm_tree-0.1.5-cp38-cp38-manylinux2014_x86_64.whl (91 kB)\n",
      "\u001b[K     |████████████████████████████████| 91 kB 16.2 MB/s eta 0:00:01\n",
      "\u001b[?25hRequirement already satisfied: decorator in /opt/anaconda/lib/python3.8/site-packages (from tensorflow-probability<0.12,>=0.11->rasa) (4.4.2)\n",
      "Requirement already satisfied: protobuf>=3.8.0 in /opt/anaconda/lib/python3.8/site-packages (from tensorflow_hub<0.10,>=0.9->rasa) (3.13.0)\n",
      "Requirement already satisfied: pyrsistent>=0.14.0 in /opt/anaconda/lib/python3.8/site-packages (from jsonschema<3.3,>=3.2->rasa) (0.16.0)\n",
      "Requirement already satisfied: cryptography in /opt/anaconda/lib/python3.8/site-packages (from python-telegram-bot<13.0,>=11.1->rasa) (2.9.2)\n",
      "Requirement already satisfied: tornado>=5.1 in /opt/anaconda/lib/python3.8/site-packages (from python-telegram-bot<13.0,>=11.1->rasa) (6.0.4)\n",
      "Requirement already satisfied: certifi in /opt/anaconda/lib/python3.8/site-packages (from python-telegram-bot<13.0,>=11.1->rasa) (2020.6.20)\n",
      "Requirement already satisfied: kiwisolver>=1.0.1 in /opt/anaconda/lib/python3.8/site-packages (from matplotlib<3.4,>=3.1->rasa) (1.2.0)\n",
      "Requirement already satisfied: cycler>=0.10 in /opt/anaconda/lib/python3.8/site-packages (from matplotlib<3.4,>=3.1->rasa) (0.10.0)\n",
      "Requirement already satisfied: urllib3!=1.25.0,!=1.25.1,<1.26,>=1.21.1 in /opt/anaconda/lib/python3.8/site-packages (from requests<3.0,>=2.23->rasa) (1.25.9)\n",
      "Requirement already satisfied: chardet<4,>=3.0.2 in /opt/anaconda/lib/python3.8/site-packages (from requests<3.0,>=2.23->rasa) (3.0.4)\n",
      "Requirement already satisfied: idna<3,>=2.5 in /opt/anaconda/lib/python3.8/site-packages (from requests<3.0,>=2.23->rasa) (2.10)\n",
      "Requirement already satisfied: tensorboard<3,>=2.3.0 in /opt/anaconda/lib/python3.8/site-packages (from tensorflow<2.4,>=2.3->rasa) (2.3.0)\n",
      "Requirement already satisfied: grpcio>=1.8.6 in /opt/anaconda/lib/python3.8/site-packages (from tensorflow<2.4,>=2.3->rasa) (1.32.0)\n",
      "Requirement already satisfied: h5py<2.11.0,>=2.10.0 in /opt/anaconda/lib/python3.8/site-packages (from tensorflow<2.4,>=2.3->rasa) (2.10.0)\n",
      "Requirement already satisfied: wrapt>=1.11.1 in /opt/anaconda/lib/python3.8/site-packages (from tensorflow<2.4,>=2.3->rasa) (1.11.2)\n",
      "Requirement already satisfied: wheel>=0.26 in /opt/anaconda/lib/python3.8/site-packages (from tensorflow<2.4,>=2.3->rasa) (0.34.2)\n",
      "Requirement already satisfied: opt-einsum>=2.3.2 in /opt/anaconda/lib/python3.8/site-packages (from tensorflow<2.4,>=2.3->rasa) (3.3.0)\n",
      "Requirement already satisfied: google-pasta>=0.1.8 in /opt/anaconda/lib/python3.8/site-packages (from tensorflow<2.4,>=2.3->rasa) (0.2.0)\n",
      "Requirement already satisfied: astunparse==1.6.3 in /opt/anaconda/lib/python3.8/site-packages (from tensorflow<2.4,>=2.3->rasa) (1.6.3)\n",
      "Requirement already satisfied: keras-preprocessing<1.2,>=1.1.1 in /opt/anaconda/lib/python3.8/site-packages (from tensorflow<2.4,>=2.3->rasa) (1.1.2)\n",
      "Requirement already satisfied: termcolor>=1.1.0 in /opt/anaconda/lib/python3.8/site-packages (from tensorflow<2.4,>=2.3->rasa) (1.1.0)\n",
      "Collecting yarl<1.6.0,>=1.0\n",
      "  Downloading yarl-1.5.1-cp38-cp38-manylinux1_x86_64.whl (262 kB)\n",
      "\u001b[K     |████████████████████████████████| 262 kB 21.0 MB/s eta 0:00:01\n",
      "\u001b[?25hCollecting async-timeout<4.0,>=3.0\n",
      "  Downloading async_timeout-3.0.1-py3-none-any.whl (8.2 kB)\n",
      "Collecting websockets<9.0,>=8.1\n",
      "  Downloading websockets-8.1-cp38-cp38-manylinux2010_x86_64.whl (78 kB)\n",
      "\u001b[K     |████████████████████████████████| 78 kB 13.6 MB/s eta 0:00:01\n",
      "\u001b[?25hCollecting aiofiles>=0.3.0\n",
      "  Downloading aiofiles-0.5.0-py3-none-any.whl (11 kB)\n",
      "Collecting httpx==0.15.4\n",
      "  Downloading httpx-0.15.4-py3-none-any.whl (65 kB)\n",
      "\u001b[K     |████████████████████████████████| 65 kB 9.2 MB/s  eta 0:00:01\n",
      "\u001b[?25hCollecting httptools>=0.0.10\n",
      "  Downloading httptools-0.1.1-cp38-cp38-manylinux1_x86_64.whl (227 kB)\n",
      "\u001b[K     |████████████████████████████████| 227 kB 19.4 MB/s eta 0:00:01\n",
      "\u001b[?25hCollecting uvloop>=0.5.3; sys_platform != \"win32\" and implementation_name == \"cpython\"\n",
      "  Downloading uvloop-0.14.0-cp38-cp38-manylinux2010_x86_64.whl (4.7 MB)\n",
      "\u001b[K     |████████████████████████████████| 4.7 MB 20.7 MB/s eta 0:00:01\n",
      "\u001b[?25hRequirement already satisfied: importlib-metadata in /opt/anaconda/lib/python3.8/site-packages (from jsonpickle<1.5,>=1.3->rasa) (1.7.0)\n",
      "Collecting tzlocal>=1.2\n",
      "  Downloading tzlocal-2.1-py2.py3-none-any.whl (16 kB)\n",
      "Collecting python-crfsuite>=0.8.3\n",
      "  Downloading python_crfsuite-0.9.7-cp38-cp38-manylinux1_x86_64.whl (743 kB)\n",
      "\u001b[K     |████████████████████████████████| 743 kB 34.6 MB/s eta 0:00:01\n",
      "\u001b[?25hCollecting tabulate\n",
      "  Downloading tabulate-0.8.7-py3-none-any.whl (24 kB)\n",
      "Collecting requests-toolbelt\n",
      "  Downloading requests_toolbelt-0.9.1-py2.py3-none-any.whl (54 kB)\n",
      "\u001b[K     |████████████████████████████████| 54 kB 7.7 MB/s  eta 0:00:01\n",
      "\u001b[?25hRequirement already satisfied: future in /opt/anaconda/lib/python3.8/site-packages (from webexteamssdk<1.7.0,>=1.1.1->rasa) (0.18.2)\n",
      "Collecting docopt>=0.6.2\n",
      "  Downloading docopt-0.6.2.tar.gz (25 kB)\n",
      "Requirement already satisfied: PyYAML>=3.11 in /opt/anaconda/lib/python3.8/site-packages (from pykwalify<1.8.0,>=1.7.0->rasa) (5.3.1)\n",
      "Collecting sanic-plugins-framework>=0.9.0\n",
      "  Downloading Sanic_Plugins_Framework-0.9.4-py2.py3-none-any.whl (23 kB)\n",
      "Requirement already satisfied: docutils<0.16,>=0.10 in /opt/anaconda/lib/python3.8/site-packages (from botocore<1.18.0,>=1.17.60->boto3<2.0,>=1.12->rasa) (0.15.2)\n",
      "Requirement already satisfied: cffi!=1.11.3,>=1.8 in /opt/anaconda/lib/python3.8/site-packages (from cryptography->python-telegram-bot<13.0,>=11.1->rasa) (1.14.0)\n",
      "Requirement already satisfied: google-auth<2,>=1.6.3 in /opt/anaconda/lib/python3.8/site-packages (from tensorboard<3,>=2.3.0->tensorflow<2.4,>=2.3->rasa) (1.21.1)\n",
      "Requirement already satisfied: werkzeug>=0.11.15 in /opt/anaconda/lib/python3.8/site-packages (from tensorboard<3,>=2.3.0->tensorflow<2.4,>=2.3->rasa) (1.0.1)\n",
      "Requirement already satisfied: tensorboard-plugin-wit>=1.6.0 in /opt/anaconda/lib/python3.8/site-packages (from tensorboard<3,>=2.3.0->tensorflow<2.4,>=2.3->rasa) (1.7.0)\n",
      "Requirement already satisfied: google-auth-oauthlib<0.5,>=0.4.1 in /opt/anaconda/lib/python3.8/site-packages (from tensorboard<3,>=2.3.0->tensorflow<2.4,>=2.3->rasa) (0.4.1)\n",
      "Requirement already satisfied: markdown>=2.6.8 in /opt/anaconda/lib/python3.8/site-packages (from tensorboard<3,>=2.3.0->tensorflow<2.4,>=2.3->rasa) (3.2.2)\n"
     ]
    },
    {
     "name": "stdout",
     "output_type": "stream",
     "text": [
      "Collecting httpcore==0.11.*\n",
      "  Downloading httpcore-0.11.1-py3-none-any.whl (52 kB)\n",
      "\u001b[K     |████████████████████████████████| 52 kB 4.2 MB/s  eta 0:00:01\n",
      "\u001b[?25hCollecting sniffio\n",
      "  Downloading sniffio-1.2.0-py3-none-any.whl (10 kB)\n",
      "Collecting rfc3986[idna2008]<2,>=1.3\n",
      "  Downloading rfc3986-1.4.0-py2.py3-none-any.whl (31 kB)\n",
      "Requirement already satisfied: zipp>=0.5 in /opt/anaconda/lib/python3.8/site-packages (from importlib-metadata->jsonpickle<1.5,>=1.3->rasa) (3.1.0)\n",
      "Requirement already satisfied: pycparser in /opt/anaconda/lib/python3.8/site-packages (from cffi!=1.11.3,>=1.8->cryptography->python-telegram-bot<13.0,>=11.1->rasa) (2.20)\n",
      "Requirement already satisfied: cachetools<5.0,>=2.0.0 in /opt/anaconda/lib/python3.8/site-packages (from google-auth<2,>=1.6.3->tensorboard<3,>=2.3.0->tensorflow<2.4,>=2.3->rasa) (4.1.1)\n",
      "Requirement already satisfied: requests-oauthlib>=0.7.0 in /opt/anaconda/lib/python3.8/site-packages (from google-auth-oauthlib<0.5,>=0.4.1->tensorboard<3,>=2.3.0->tensorflow<2.4,>=2.3->rasa) (1.3.0)\n",
      "Collecting h11<0.10,>=0.8\n",
      "  Downloading h11-0.9.0-py2.py3-none-any.whl (53 kB)\n",
      "\u001b[K     |████████████████████████████████| 53 kB 241 kB/s  eta 0:00:01\n",
      "\u001b[?25hRequirement already satisfied: oauthlib>=3.0.0 in /opt/anaconda/lib/python3.8/site-packages (from requests-oauthlib>=0.7.0->google-auth-oauthlib<0.5,>=0.4.1->tensorboard<3,>=2.3.0->tensorflow<2.4,>=2.3->rasa) (3.1.0)\n",
      "Building wheels for collected packages: twilio, mattermostwrapper, sanic-jwt, aiohttp, terminaltables, colorclass, docopt\n",
      "  Building wheel for twilio (setup.py) ... \u001b[?25ldone\n",
      "\u001b[?25h  Created wheel for twilio: filename=twilio-6.45.4-py2.py3-none-any.whl size=1211597 sha256=448bb7c3510aa32ee6a7c57b5f38a4844aeb8d2f054f55b59e15b74c7c52c577\n",
      "  Stored in directory: /home/tchichua/.cache/pip/wheels/cd/d4/31/74e1cb4f74bd72a0e74d6fbb28f5093b9a2168df275aa59440\n",
      "  Building wheel for mattermostwrapper (setup.py) ... \u001b[?25ldone\n",
      "\u001b[?25h  Created wheel for mattermostwrapper: filename=mattermostwrapper-2.2-py3-none-any.whl size=2464 sha256=2e3ebcd0f136898e0dfbf50be7021946cdfb352e174370143679027dd7518290\n",
      "  Stored in directory: /home/tchichua/.cache/pip/wheels/1a/d3/89/63aef88b581e7acc2c48812e6160a2bae57b6ef180f6e1f293\n",
      "  Building wheel for sanic-jwt (setup.py) ... \u001b[?25ldone\n",
      "\u001b[?25h  Created wheel for sanic-jwt: filename=sanic_jwt-1.4.1-py3-none-any.whl size=21614 sha256=338f97e2690baaf8dc99458a82cffb4bab5502aea5e5feec5afafeae7307e360\n",
      "  Stored in directory: /home/tchichua/.cache/pip/wheels/e3/20/a2/d1e894c0ef62547559ba0cca55e27dc5dcf65ad87abea69d32\n",
      "  Building wheel for aiohttp (PEP 517) ... \u001b[?25ldone\n",
      "\u001b[?25h  Created wheel for aiohttp: filename=aiohttp-3.6.3-cp38-cp38-linux_x86_64.whl size=1469895 sha256=c9ba0cfca97f56a155f17ba42faaee226aebefbfca8461a08965648a29412d26\n",
      "  Stored in directory: /home/tchichua/.cache/pip/wheels/2d/6d/bb/486f8c893f1dcc917860a5b3e2f2ca286c398f7d548ffc649c\n",
      "  Building wheel for terminaltables (setup.py) ... \u001b[?25ldone\n",
      "\u001b[?25h  Created wheel for terminaltables: filename=terminaltables-3.1.0-py3-none-any.whl size=15354 sha256=d3d699c0c6998e8715286d784fab86c353fd35c869436d793741c88b9b20de19\n",
      "  Stored in directory: /home/tchichua/.cache/pip/wheels/08/8f/5f/253d0105a55bd84ee61ef0d37dbf70421e61e0cd70cef7c5e1\n",
      "  Building wheel for colorclass (setup.py) ... \u001b[?25ldone\n",
      "\u001b[?25h  Created wheel for colorclass: filename=colorclass-2.2.0-py3-none-any.whl size=19395 sha256=1255464d9b32f9d73205154c8af263e68cd9449b50ffc6344db075de0570e917\n",
      "  Stored in directory: /home/tchichua/.cache/pip/wheels/bf/4f/4e/831c191578fd8b676533e1bf85e4710e3215c72c1d3d0d6710\n",
      "  Building wheel for docopt (setup.py) ... \u001b[?25ldone\n",
      "\u001b[?25h  Created wheel for docopt: filename=docopt-0.6.2-py2.py3-none-any.whl size=13704 sha256=4fd121b3d0a0795873b31eba95592835e774e6025b53fa6572e739190046ad63\n",
      "  Stored in directory: /home/tchichua/.cache/pip/wheels/56/ea/58/ead137b087d9e326852a851351d1debf4ada529b6ac0ec4e8c\n",
      "Successfully built twilio mattermostwrapper sanic-jwt aiohttp terminaltables colorclass docopt\n",
      "\u001b[31mERROR: spyder 4.1.4 requires pyqt5<5.13; python_version >= \"3\", which is not installed.\u001b[0m\n",
      "\u001b[31mERROR: spyder 4.1.4 requires pyqtwebengine<5.13; python_version >= \"3\", which is not installed.\u001b[0m\n",
      "Installing collected packages: redis, multidict, ruamel.yaml.clib, ruamel.yaml, psycopg2-binary, humanfriendly, coloredlogs, fbmessenger, rocketchat-API, PyJWT, tensorflow-text, joblib, async-generator, typeguard, tensorflow-addons, httplib2, oauth2client, websockets, aiofiles, sniffio, h11, httpcore, rfc3986, httpx, httptools, uvloop, sanic, sanic-plugins-framework, sanic-cors, rasa-sdk, dnspython, pymongo, twilio, prompt-toolkit, questionary, mattermostwrapper, python-engineio, sanic-jwt, dm-tree, cloudpickle, tensorflow-probability, tensorflow-hub, python-telegram-bot, pika, sentry-sdk, colorhash, yarl, async-timeout, aiohttp, slackclient, jsonpickle, tzlocal, apscheduler, terminaltables, kafka-python, python-crfsuite, tabulate, sklearn-crfsuite, requests-toolbelt, webexteamssdk, python-socketio, docopt, pykwalify, colorclass, rasa\n",
      "  Attempting uninstall: joblib\n",
      "    Found existing installation: joblib 0.16.0\n",
      "    Uninstalling joblib-0.16.0:\n",
      "      Successfully uninstalled joblib-0.16.0\n",
      "  Attempting uninstall: prompt-toolkit\n",
      "    Found existing installation: prompt-toolkit 3.0.5\n",
      "    Uninstalling prompt-toolkit-3.0.5:\n",
      "      Successfully uninstalled prompt-toolkit-3.0.5\n",
      "  Attempting uninstall: cloudpickle\n",
      "    Found existing installation: cloudpickle 1.5.0\n",
      "    Uninstalling cloudpickle-1.5.0:\n",
      "      Successfully uninstalled cloudpickle-1.5.0\n",
      "Successfully installed PyJWT-1.7.1 aiofiles-0.5.0 aiohttp-3.6.3 apscheduler-3.6.3 async-generator-1.10 async-timeout-3.0.1 cloudpickle-1.4.1 colorclass-2.2.0 coloredlogs-14.0 colorhash-1.0.2 dm-tree-0.1.5 dnspython-1.16.0 docopt-0.6.2 fbmessenger-6.0.0 h11-0.9.0 httpcore-0.11.1 httplib2-0.18.1 httptools-0.1.1 httpx-0.15.4 humanfriendly-8.2 joblib-0.15.1 jsonpickle-1.4.1 kafka-python-2.0.2 mattermostwrapper-2.2 multidict-4.7.6 oauth2client-4.1.3 pika-1.1.0 prompt-toolkit-2.0.10 psycopg2-binary-2.8.6 pykwalify-1.7.0 pymongo-3.10.1 python-crfsuite-0.9.7 python-engineio-3.13.2 python-socketio-4.6.0 python-telegram-bot-12.8 questionary-1.5.2 rasa-2.0.0 rasa-sdk-2.0.0 redis-3.5.3 requests-toolbelt-0.9.1 rfc3986-1.4.0 rocketchat-API-1.9.1 ruamel.yaml-0.16.12 ruamel.yaml.clib-0.2.2 sanic-20.9.0 sanic-cors-0.10.0.post3 sanic-jwt-1.4.1 sanic-plugins-framework-0.9.4 sentry-sdk-0.17.8 sklearn-crfsuite-0.3.6 slackclient-2.9.2 sniffio-1.2.0 tabulate-0.8.7 tensorflow-addons-0.11.2 tensorflow-hub-0.9.0 tensorflow-probability-0.11.1 tensorflow-text-2.3.0 terminaltables-3.1.0 twilio-6.45.4 typeguard-2.10.0 tzlocal-2.1 uvloop-0.14.0 webexteamssdk-1.6 websockets-8.1 yarl-1.5.1\n"
     ]
    }
   ],
   "source": [
    "!pip install rasa"
   ]
  },
  {
   "cell_type": "code",
   "execution_count": 3,
   "metadata": {},
   "outputs": [
    {
     "ename": "NameError",
     "evalue": "name '__version__' is not defined",
     "output_type": "error",
     "traceback": [
      "\u001b[0;31m-------------------------------------------------------------------------\u001b[0m",
      "\u001b[0;31mNameError\u001b[0m                               Traceback (most recent call last)",
      "\u001b[0;32m<ipython-input-3-566b4646f4e5>\u001b[0m in \u001b[0;36m<module>\u001b[0;34m\u001b[0m\n\u001b[0;32m----> 1\u001b[0;31m \u001b[0m__version__\u001b[0m\u001b[0;34m\u001b[0m\u001b[0;34m\u001b[0m\u001b[0m\n\u001b[0m",
      "\u001b[0;31mNameError\u001b[0m: name '__version__' is not defined"
     ]
    }
   ],
   "source": [
    "__version__"
   ]
  },
  {
   "cell_type": "code",
   "execution_count": 4,
   "metadata": {},
   "outputs": [
    {
     "ename": "NameError",
     "evalue": "name 'python_version' is not defined",
     "output_type": "error",
     "traceback": [
      "\u001b[0;31m-------------------------------------------------------------------------\u001b[0m",
      "\u001b[0;31mNameError\u001b[0m                               Traceback (most recent call last)",
      "\u001b[0;32m<ipython-input-4-ea23ff7d01a6>\u001b[0m in \u001b[0;36m<module>\u001b[0;34m\u001b[0m\n\u001b[0;32m----> 1\u001b[0;31m \u001b[0mpython_version\u001b[0m\u001b[0;34m(\u001b[0m\u001b[0;34m)\u001b[0m\u001b[0;34m\u001b[0m\u001b[0;34m\u001b[0m\u001b[0m\n\u001b[0m",
      "\u001b[0;31mNameError\u001b[0m: name 'python_version' is not defined"
     ]
    }
   ],
   "source": [
    "python_version()"
   ]
  },
  {
   "cell_type": "code",
   "execution_count": null,
   "metadata": {},
   "outputs": [],
   "source": [
    "from platform import python_version\n",
    "print(python_version())"
   ]
  }
 ],
 "metadata": {
  "kernelspec": {
   "display_name": "Python 3",
   "language": "python",
   "name": "python3"
  },
  "language_info": {
   "codemirror_mode": {
    "name": "ipython",
    "version": 3
   },
   "file_extension": ".py",
   "mimetype": "text/x-python",
   "name": "python",
   "nbconvert_exporter": "python",
   "pygments_lexer": "ipython3",
   "version": "3.8.3"
  }
 },
 "nbformat": 4,
 "nbformat_minor": 4
}
