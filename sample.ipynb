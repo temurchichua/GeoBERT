{
 "cells": [
  {
   "cell_type": "code",
   "execution_count": 1,
   "metadata": {
    "collapsed": true
   },
   "outputs": [
    {
     "name": "stderr",
     "output_type": "stream",
     "text": [
      "2021-02-21 20:53:11,950\tINFO -- MainProcess corpus.py:18 -- Welcome to the Georgian NLP toolset demo\n"
     ]
    }
   ],
   "source": [
    "from GNLP.corpus import Corpus\n",
    "corpus = Corpus()\n",
    "corpus = corpus.from_file(\"extracted-24000.txt\")"
   ]
  },
  {
   "cell_type": "code",
   "execution_count": 2,
   "outputs": [
    {
     "data": {
      "text/plain": "'59.1MiB'"
     },
     "execution_count": 2,
     "metadata": {},
     "output_type": "execute_result"
    }
   ],
   "source": [
    "corpus.file_size"
   ],
   "metadata": {
    "collapsed": false,
    "pycharm": {
     "name": "#%%\n"
    }
   }
  },
  {
   "cell_type": "code",
   "execution_count": 3,
   "outputs": [
    {
     "name": "stderr",
     "output_type": "stream",
     "text": [
      "2021-02-21 20:53:11,983\tINFO -- MainProcess corpus.py:115 -- ვიწყებ extracted-24000.txt-ის დამუშავებას\n",
      "2021-02-21 20:53:26,577\tINFO -- MainProcess corpus.py:135 -- წინადადების რაოდენობა: 589916\n"
     ]
    },
    {
     "name": "stdout",
     "output_type": "stream",
     "text": [
      "During handling the sentence \"   1. file:///w/index.php?title=ჯიბუტი&action=edit\", following error has occured: 'utf-8' codec can't decode byte 0xe4 in position 5518: invalid continuation byte\n"
     ]
    }
   ],
   "source": [
    "corpus.file2sequence(preprocess=True)"
   ],
   "metadata": {
    "collapsed": false,
    "pycharm": {
     "name": "#%%\n"
    }
   }
  },
  {
   "cell_type": "code",
   "execution_count": 4,
   "outputs": [
    {
     "data": {
      "text/plain": "['რედაქტირაფა ვიკიპედია',\n '',\n 'მენიუშა მიშულა',\n 'დუდხასჷლაშა',\n 'ნამდგარენ ხასჷლა',\n 'გოხოლუას',\n '',\n 'მიშულა',\n '',\n 'პარამეტრეფი',\n '',\n 'ვიკიპედია შენი',\n 'გამამინჯალაშ ვარება',\n '',\n 'ვიკიპედია',\n '',\n '',\n 'გორუა',\n '',\n 'კაისერი ნოღა',\n '',\n 'შხვა ნინაშა კითხირი',\n 'გაკონტროლი',\n 'რედაქტირაფა',\n '']"
     },
     "execution_count": 4,
     "metadata": {},
     "output_type": "execute_result"
    }
   ],
   "source": [
    "corpus.prepro_sequence[:25]"
   ],
   "metadata": {
    "collapsed": false,
    "pycharm": {
     "name": "#%%\n"
    }
   }
  }
 ],
 "metadata": {
  "kernelspec": {
   "display_name": "Python 3",
   "language": "python",
   "name": "python3"
  },
  "language_info": {
   "codemirror_mode": {
    "name": "ipython",
    "version": 2
   },
   "file_extension": ".py",
   "mimetype": "text/x-python",
   "name": "python",
   "nbconvert_exporter": "python",
   "pygments_lexer": "ipython2",
   "version": "2.7.6"
  }
 },
 "nbformat": 4,
 "nbformat_minor": 0
}