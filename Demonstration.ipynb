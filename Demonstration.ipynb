{
 "cells": [
  {
   "cell_type": "code",
   "execution_count": 1,
   "metadata": {},
   "outputs": [
    {
     "name": "stderr",
     "output_type": "stream",
     "text": [
      "Some weights of RobertaModel were not initialized from the model checkpoint at ./QartBERT and are newly initialized: ['roberta.pooler.dense.weight', 'roberta.pooler.dense.bias']\n",
      "You should probably TRAIN this model on a down-stream task to be able to use it for predictions and inference.\n"
     ]
    }
   ],
   "source": [
    "from transformers import pipeline\n",
    "\n",
    "fill_mask = pipeline(\n",
    "    \"fill-mask\",\n",
    "    model=\"./QartBERT\",\n",
    "    tokenizer=\"./QartBERT\"\n",
    ")"
   ]
  },
  {
   "cell_type": "code",
   "execution_count": 24,
   "metadata": {},
   "outputs": [
    {
     "data": {
      "text/plain": [
       "[{'sequence': '<s>ეს ყველაფერი დასაწყისია, უკეთესი იქნება</s>',\n",
       "  'score': 0.06559304147958755,\n",
       "  'token': 1013,\n",
       "  'token_str': 'Ġáĥĺáĥ¥áĥľáĥĶáĥĳáĥĲ'},\n",
       " {'sequence': '<s>ეს ყველაფერი დასაწყისია, უკეთესი არის</s>',\n",
       "  'score': 0.01798356883227825,\n",
       "  'token': 571,\n",
       "  'token_str': 'ĠáĥĲáĥłáĥĺáĥ¡'},\n",
       " {'sequence': '<s>ეს ყველაფერი დასაწყისია, უკეთესი აქვს</s>',\n",
       "  'score': 0.017326176166534424,\n",
       "  'token': 748,\n",
       "  'token_str': 'ĠáĥĲáĥ¥áĥķáĥ¡'},\n",
       " {'sequence': '<s>ეს ყველაფერი დასაწყისია, უკეთესი იყოს</s>',\n",
       "  'score': 0.016668889671564102,\n",
       "  'token': 1347,\n",
       "  'token_str': 'Ġáĥĺáĥ§áĥĿáĥ¡'},\n",
       " {'sequence': '<s>ეს ყველაფერი დასაწყისია, უკეთესი იქნებოდა</s>',\n",
       "  'score': 0.010064617730677128,\n",
       "  'token': 3489,\n",
       "  'token_str': 'Ġáĥĺáĥ¥áĥľáĥĶáĥĳáĥĿáĥĵáĥĲ'}]"
      ]
     },
     "execution_count": 24,
     "metadata": {},
     "output_type": "execute_result"
    }
   ],
   "source": [
    "fill_mask(\"ეს ყველაფერი დასაწყისია, უკეთესი <mask>\")"
   ]
  },
  {
   "cell_type": "code",
   "execution_count": null,
   "metadata": {},
   "outputs": [],
   "source": []
  },
  {
   "cell_type": "code",
   "execution_count": null,
   "metadata": {},
   "outputs": [],
   "source": []
  }
 ],
 "metadata": {
  "kernelspec": {
   "display_name": "Python 3",
   "language": "python",
   "name": "python3"
  },
  "language_info": {
   "codemirror_mode": {
    "name": "ipython",
    "version": 3
   },
   "file_extension": ".py",
   "mimetype": "text/x-python",
   "name": "python",
   "nbconvert_exporter": "python",
   "pygments_lexer": "ipython3",
   "version": "3.6.12"
  }
 },
 "nbformat": 4,
 "nbformat_minor": 4
}
